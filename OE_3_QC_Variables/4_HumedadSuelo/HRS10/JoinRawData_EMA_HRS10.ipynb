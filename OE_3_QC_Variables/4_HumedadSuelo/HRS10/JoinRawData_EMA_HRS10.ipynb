{
 "cells": [
  {
   "cell_type": "markdown",
   "id": "c6073455",
   "metadata": {},
   "source": [
    "# Unión de archivos de series temporales de humedad del suelo -10cm desde repositorio Cassandra"
   ]
  },
  {
   "cell_type": "markdown",
   "id": "a724cbd9",
   "metadata": {},
   "source": [
    "> Elaborado por Paola Álvarez, profesional contratista IDEAM, contrato 196 de 2024. Comentarios o inquietudes, remitir a *palvarez@ideam.gov.co* "
   ]
  },
  {
   "cell_type": "code",
   "execution_count": 1,
   "id": "1f594123",
   "metadata": {},
   "outputs": [],
   "source": [
    "import pandas as pd\n",
    "import numpy as np\n",
    "import datetime\n",
    "import prestodb\n",
    "import statistics\n",
    "import os\n",
    "import fnmatch"
   ]
  },
  {
   "cell_type": "markdown",
   "id": "5e52ba27",
   "metadata": {},
   "source": [
    "## Unir todos los datos de temperatura del suelo"
   ]
  },
  {
   "cell_type": "code",
   "execution_count": 3,
   "id": "8a3b4971-659c-431d-ad37-affb0133baa5",
   "metadata": {},
   "outputs": [],
   "source": [
    "### Se crea un diccionario con los nombres de archivos como \"keys\" y rutas\n",
    "file_paths = {}\n",
    "for root, dirs, files in os.walk('.'):\n",
    "    # Se añade condición de inicio en '20' para que solo tome las carpetas de interés\n",
    "    if os.path.basename(root).startswith(('20','19')):\n",
    "        for f in files:\n",
    "            if f.endswith('.csv'):\n",
    "                if f not in file_paths:\n",
    "                    file_paths[f] = []\n",
    "                file_paths[f].append(root)\n",
    "\n",
    "# para cada archivo en el diccionario, se busca en cada carpeta y se unen los archivos con el\n",
    "# mismo nombre al inicio del directorio\n",
    "for f, paths in file_paths.items():\n",
    "    txt = []\n",
    "    header_found = False  # Variable para indicar si ya se encontró la fila de encabezados\n",
    "\n",
    "    for p in paths:\n",
    "        with open(os.path.join(p, f), encoding='latin-1') as f2:\n",
    "            lines = f2.readlines()\n",
    "            if not header_found:\n",
    "                # Agregar la primera línea (fila de encabezados) solo una vez\n",
    "                txt.append(lines[0])\n",
    "                header_found = True\n",
    "\n",
    "            txt.extend(lines[1:])  # Agregar el resto de líneas\n",
    "\n",
    "    try:\n",
    "        with open(f, 'w') as f3:\n",
    "            f3.write(''.join(txt))\n",
    "    except UnicodeEncodeError as e:\n",
    "        print(\"Error de codificación en el archivo:\", f)\n",
    "        print(\"Posición del caracter:\", e.start)"
   ]
  },
  {
   "cell_type": "markdown",
   "id": "8c1eebbc",
   "metadata": {},
   "source": [
    "## Corrección de errores"
   ]
  },
  {
   "cell_type": "markdown",
   "id": "e3d2e3ff",
   "metadata": {},
   "source": [
    "Si aplica, a continuación se corrigen los errores reportados en el anterior código en el bloque try-except."
   ]
  },
  {
   "cell_type": "code",
   "execution_count": 31,
   "id": "9c03d63f",
   "metadata": {},
   "outputs": [
    {
     "name": "stdout",
     "output_type": "stream",
     "text": [
      ".\n",
      ".\\2017-01_a_2017-12\n",
      ".\\2018-01_a_2018-12\n"
     ]
    }
   ],
   "source": [
    "# Se observan los directorios en os que se encuentran los archivos de la estación\n",
    "for root, dirs, files in os.walk('.'):\n",
    "    for f in files:\n",
    "        if f.endswith('Estacion_0011115501.csv'):\n",
    "            print(root)"
   ]
  },
  {
   "cell_type": "code",
   "execution_count": 33,
   "id": "a2e17cc9",
   "metadata": {},
   "outputs": [
    {
     "data": {
      "text/plain": [
       "array(['CAÃ\\x91ASGORDAS'], dtype=object)"
      ]
     },
     "execution_count": 33,
     "metadata": {},
     "output_type": "execute_result"
    }
   ],
   "source": [
    "# Al avidenciar que trata de un error de encoding, se indaga en el directorio desde el que puede iniciar el error (usualmente\n",
    "# desde cierto periodo se generan errores de encoding que persisten\n",
    "archivo_defectuoso = pd.read_csv('2018-01_a_2018-12/Estacion_0011115501.csv', encoding='latin-1')\n",
    "archivo_defectuoso['Name'].unique()"
   ]
  },
  {
   "cell_type": "code",
   "execution_count": 6,
   "id": "071f0a1e",
   "metadata": {},
   "outputs": [],
   "source": [
    "# Caso 1: solo hay error en unas cuantas carpetas. El reemplazado del error de encoding se hace en las carpetas específicas.\n",
    "def findReplace(directory, find, replace, filePattern, targetFileName=None):\n",
    "    for path, dirs, files in os.walk(os.path.abspath(directory)):\n",
    "        for filename in fnmatch.filter(files, filePattern):\n",
    "            # Verificar si el targetFileName es None o si el filename coincide con targetFileName\n",
    "            if targetFileName is None or filename == targetFileName:\n",
    "                filepath = os.path.join(path, filename)\n",
    "                with open(filepath, encoding='latin-1') as f: #'utf-8' 'latin-1'\n",
    "                    s = f.read()\n",
    "                s = s.replace(find, replace)\n",
    "                try:\n",
    "                    # Se utiliza un bloque try para manejar errores durante la escritura\n",
    "                    with open(filepath, \"w\", encoding='latin-1') as f:\n",
    "                        f.write(s)\n",
    "                except Exception as e:\n",
    "                    # Puedes manejar aquí errores específicos si lo necesitas\n",
    "                    print(f\"Error escribiendo en el archivo {filename}: {e}\")"
   ]
  },
  {
   "cell_type": "code",
   "execution_count": 7,
   "id": "ca4698bd",
   "metadata": {},
   "outputs": [],
   "source": [
    "findReplace(\"2024-06_a_2024-07\", \"UNIVERSIDAD SANTO TOMÃ\\x81S\", \"UNIVERSIDAD SANTO TOMÁS\", \"*.csv\", targetFileName=\"Estacion_0021205523.csv\")"
   ]
  },
  {
   "cell_type": "code",
   "execution_count": 35,
   "id": "025bc11d-e33c-40e9-8ad8-6731c6f9283c",
   "metadata": {},
   "outputs": [],
   "source": [
    "# Caso 2: Error de encoding en todas las carpetas; el reemplazado se hace en todas las carpetas\n",
    "def findReplace_alldicts(directory, find, replace, filePattern, targetFileName=None):\n",
    "    for path, dirs, files in os.walk(os.path.abspath(directory)):\n",
    "        for filename in files:\n",
    "            # Verificar si el filename coincide con targetFileName\n",
    "            if filename == targetFileName:\n",
    "                filepath = os.path.join(path, filename)\n",
    "                with open(filepath, encoding='latin-1') as f:\n",
    "                    s = f.read()\n",
    "                s = s.replace(find, replace)\n",
    "                try:\n",
    "                    # Intenta escribir los cambios al mismo archivo\n",
    "                    with open(filepath, \"w\", encoding='latin-1') as f:\n",
    "                        f.write(s)\n",
    "                except Exception as e:\n",
    "                    # Maneja posibles errores de escritura\n",
    "                    print(f\"Error escribiendo en el archivo {filename}: {e}\")"
   ]
  },
  {
   "cell_type": "code",
   "execution_count": 37,
   "id": "58700f51-31c7-4222-b7bc-538423afc798",
   "metadata": {},
   "outputs": [],
   "source": [
    "findReplace_alldicts(r'C:\\Users\\palvarez\\Documents\\clone\\OE_CTO196-2024\\OE_3_QC_Variables\\4_HumedadSuelo\\HRS10',\n",
    "                     \"CAÃ\\x91ASGORDAS\", \"CAÑASGORDAS\", \"*.csv\", targetFileName=\"Estacion_0011115501.csv\")"
   ]
  },
  {
   "cell_type": "code",
   "execution_count": 27,
   "id": "9603e335",
   "metadata": {},
   "outputs": [],
   "source": [
    "# Función para unir los archivos de las estaciones con los errores detectados\n",
    "def JoinFixedStations(fileName):\n",
    "    \n",
    "    file_paths = {}\n",
    "    for root, dirs, files in os.walk('.'):\n",
    "        # Se añade condición de inicio en '20' para que solo tome las carpetas de interés\n",
    "        if os.path.basename(root).startswith('20'):\n",
    "            for f in files:\n",
    "                if f.endswith(fileName):\n",
    "                    if f not in file_paths:\n",
    "                        file_paths[f] = []\n",
    "                    file_paths[f].append(root)\n",
    "    \n",
    "    for f, paths in file_paths.items():\n",
    "        txt = []\n",
    "        header_found = False # Variable para observar si hay encabezado\n",
    "        \n",
    "        for p in paths:\n",
    "            with open(os.path.join(p, f), encoding='latin-1') as f2: #'latin-1','utf-8'\n",
    "                lines = f2.readlines()\n",
    "                if not header_found:\n",
    "                # Agregar la primera línea (fila de encabezados) solo una vez\n",
    "                    txt.append(lines[0])\n",
    "                    header_found = True\n",
    "                \n",
    "                txt.extend(lines[1:])\n",
    "                \n",
    "        try:\n",
    "            with open(f, 'w') as f3:\n",
    "                f3.write(''.join(txt))\n",
    "        except UnicodeEncodeError as e:\n",
    "            print(\"Error en el archivo:\", f)\n",
    "            print('Directorio', paths)\n",
    "            print(\"Posición del caracter:\", e.start)\n",
    "        except UnicodeEncodeError as e:\n",
    "            print(\"Error de codificación en el archivo:\", f)\n",
    "            print(\"Posición del caracter:\", e.start)"
   ]
  },
  {
   "cell_type": "code",
   "execution_count": 39,
   "id": "21d0dba4",
   "metadata": {},
   "outputs": [],
   "source": [
    "JoinFixedStations('Estacion_0011115501.csv')"
   ]
  },
  {
   "cell_type": "code",
   "execution_count": null,
   "id": "4089c028",
   "metadata": {},
   "outputs": [],
   "source": []
  }
 ],
 "metadata": {
  "kernelspec": {
   "display_name": "Python 3 (ipykernel)",
   "language": "python",
   "name": "python3"
  },
  "language_info": {
   "codemirror_mode": {
    "name": "ipython",
    "version": 3
   },
   "file_extension": ".py",
   "mimetype": "text/x-python",
   "name": "python",
   "nbconvert_exporter": "python",
   "pygments_lexer": "ipython3",
   "version": "3.12.4"
  }
 },
 "nbformat": 4,
 "nbformat_minor": 5
}
