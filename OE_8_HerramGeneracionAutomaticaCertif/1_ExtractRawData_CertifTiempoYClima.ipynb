{
 "cells": [
  {
   "cell_type": "markdown",
   "id": "242c20b1",
   "metadata": {},
   "source": [
    "# Extracción de datos de precipitación desde repositorio Cassandra"
   ]
  },
  {
   "cell_type": "markdown",
   "id": "aa73bb31",
   "metadata": {},
   "source": [
    "> Elaborado por Paola Álvarez, profesional contratista IDEAM, contrato 193 de 2023. Comentarios o inquietudes, remitir a *palvarez@ideam.gov.co* "
   ]
  },
  {
   "cell_type": "code",
   "execution_count": 1,
   "id": "eef574c8",
   "metadata": {},
   "outputs": [],
   "source": [
    "import numpy as np\n",
    "import pandas as pd\n",
    "import datetime\n",
    "import prestodb \n",
    "import matplotlib.pyplot as plt\n",
    "import os\n",
    "from datetime import datetime"
   ]
  },
  {
   "cell_type": "code",
   "execution_count": 2,
   "id": "a4e571c3",
   "metadata": {},
   "outputs": [],
   "source": [
    "conn=prestodb.dbapi.connect(\n",
    "    host='172.16.50.20',\n",
    "    port=8080,\n",
    "    user='Paola',\n",
    "    catalog='raw',\n",
    "    schema='cassandra',\n",
    ")\n",
    "cur = conn.cursor()"
   ]
  },
  {
   "cell_type": "markdown",
   "id": "cd5f1cb7",
   "metadata": {},
   "source": [
    "_________________"
   ]
  },
  {
   "cell_type": "markdown",
   "id": "9ae7982f",
   "metadata": {},
   "source": [
    "El siguiente código permite hacer la descarga diaria de datos de precipitación"
   ]
  },
  {
   "cell_type": "code",
   "execution_count": 4,
   "id": "269c337d",
   "metadata": {},
   "outputs": [],
   "source": [
    "def descarga_datoscrud_cassandra(inicio, fin, codestacion, sensor):\n",
    "    cur.execute(f''' select lm.station, s.name, lm.sensor, lm.event_time + interval '5' hour event_time, lm.event_value \n",
    "    from cassandra.raw.weather_events AS lm INNER JOIN cassandra.raw.stations AS s\n",
    "        ON lm.station = s.stationid\n",
    "    where lm.station in ('{codestacion}')\n",
    "    AND lm.event_time BETWEEN timestamp '{inicio}' AND timestamp '{fin}' \n",
    "    AND lm.sensor in ('{sensor}') ''') # estación de la forma '0021206600'; sensor de la forma '0240'\n",
    "    station_sensem = cur.fetchall()\n",
    "    \n",
    "    # Se genera un Data Frame a partir de los datos extaídos\n",
    "    stationdf = pd.DataFrame(station_sensem, columns= ['Station', 'Name', 'Sensor','Fecha','Valor'])\n",
    "    print(stationdf.head(3))\n",
    "    \n",
    "    # Se genera la lista de las diferentes estaciones con base en sus códigos\n",
    "    j = stationdf['Station'].values.ravel()\n",
    "    k = pd.unique(j).tolist()\n",
    "\n",
    "    # Se crea una carpeta con el nombre del semestre\n",
    "    inicio_date = datetime.strptime(inicio, '%Y-%m-%d') #'%Y-%m-%d %H:%M:%S.%f'\n",
    "    fin_date = datetime.strptime(fin, '%Y-%m-%d') #'%Y-%m-%d %H:%M:%S.%f'\n",
    "    semestre = inicio_date.strftime('%Y-%m-%d') + \"_a_\" + fin_date.strftime('%Y-%m-%d')\n",
    "    if not os.path.exists(semestre):\n",
    "        os.makedirs(semestre)\n",
    "\n",
    "    # Se exportan los datos separados por estaciones según su código para futuros usos \n",
    "    for i in k:\n",
    "        Filtro = stationdf['Station'] == i\n",
    "        h = stationdf[Filtro]\n",
    "        nombre_archivo = semestre + \"/Estacion_\" + str(i) + \".csv\"\n",
    "        print('Se guardó el archivo:', nombre_archivo)\n",
    "        h.to_csv(nombre_archivo)\n",
    "    \n",
    "    return station_sensem, stationdf"
   ]
  },
  {
   "cell_type": "code",
   "execution_count": 10,
   "id": "a0f44f4f",
   "metadata": {},
   "outputs": [
    {
     "name": "stdout",
     "output_type": "stream",
     "text": [
      "      Station     Name    Sensor                    Fecha  Valor\n",
      "0  0023100070  RAMBLAS  PTPM_CON  2018-09-01 07:00:00.000    0.0\n",
      "1  0023100070  RAMBLAS  PTPM_CON  2018-09-02 07:00:00.000   80.0\n",
      "2  0023100070  RAMBLAS  PTPM_CON  2018-09-03 07:00:00.000    0.0\n",
      "Se guardó el archivo: 2018-09-01_a_2018-09-30/Estacion_0023100070.csv\n"
     ]
    }
   ],
   "source": [
    "# Se llama la función con parámetros especificados con los siguientes formatos\n",
    "EMA_0240_13_01, df_EMA_0240_23_08 = descarga_datoscrud_cassandra('2018-09-01', '2018-09-30', '0023100070', 'PTPM_CON')"
   ]
  },
  {
   "cell_type": "code",
   "execution_count": 3,
   "id": "bcefa809",
   "metadata": {},
   "outputs": [],
   "source": [
    "# Sin estación específica\n",
    "def desc_datoscrud_cassandra_noest(inicio, fin, sensor):\n",
    "    cur.execute(f''' select lm.station, s.name, lm.sensor, lm.event_time + interval '5' hour event_time, lm.event_value \n",
    "    from cassandra.raw.weather_events AS lm INNER JOIN cassandra.raw.stations AS s\n",
    "        ON lm.station = s.stationid\n",
    "    where lm.event_time BETWEEN timestamp '{inicio}' AND timestamp '{fin}' \n",
    "    AND lm.sensor in ('{sensor}') ''') # estación de la forma '0021206600'; sensor de la forma '0240'\n",
    "    station_sensem = cur.fetchall()\n",
    "    \n",
    "    # Se genera un Data Frame a partir de los datos extaídos\n",
    "    stationdf = pd.DataFrame(station_sensem, columns= ['Station', 'Name', 'Sensor','Fecha','Valor'])\n",
    "    print(stationdf.head(3))\n",
    "    \n",
    "    # Se genera la lista de las diferentes estaciones con base en sus códigos\n",
    "    j = stationdf['Station'].values.ravel()\n",
    "    k = pd.unique(j).tolist()\n",
    "\n",
    "    # Se crea una carpeta con el nombre del semestre\n",
    "    inicio_date = datetime.strptime(inicio, '%Y-%m-%d') #'%Y-%m-%d %H:%M:%S.%f'\n",
    "    fin_date = datetime.strptime(fin, '%Y-%m-%d') #'%Y-%m-%d %H:%M:%S.%f'\n",
    "    semestre = inicio_date.strftime('%Y-%m-%d') + \"_a_\" + fin_date.strftime('%Y-%m-%d')\n",
    "    if not os.path.exists(semestre):\n",
    "        os.makedirs(semestre)\n",
    "\n",
    "    # Se exportan los datos separados por estaciones según su código para futuros usos \n",
    "    for i in k:\n",
    "        Filtro = stationdf['Station'] == i\n",
    "        h = stationdf[Filtro]\n",
    "        nombre_archivo = semestre + \"/Estacion_\" + str(i) + \".csv\"\n",
    "        print('Se guardó el archivo:', nombre_archivo)\n",
    "        h.to_csv(nombre_archivo)\n",
    "    \n",
    "    return station_sensem, stationdf"
   ]
  },
  {
   "cell_type": "code",
   "execution_count": 6,
   "id": "2645159d",
   "metadata": {},
   "outputs": [
    {
     "name": "stdout",
     "output_type": "stream",
     "text": [
      "      Station                     Name    Sensor                    Fecha  \\\n",
      "0  0014015080  AEROPUERTO RAFAEL NUNEZ  VVAG_CON  2018-01-01 05:00:00.000   \n",
      "1  0014015080  AEROPUERTO RAFAEL NUNEZ  VVAG_CON  2018-01-01 06:00:00.000   \n",
      "2  0014015080  AEROPUERTO RAFAEL NUNEZ  VVAG_CON  2018-01-01 07:00:00.000   \n",
      "\n",
      "   Valor  \n",
      "0    1.4  \n",
      "1    1.4  \n",
      "2    1.7  \n",
      "Se guardó el archivo: 2018-01-01_a_2018-01-02/Estacion_0014015080.csv\n",
      "Se guardó el archivo: 2018-01-01_a_2018-01-02/Estacion_0021205420.csv\n",
      "Se guardó el archivo: 2018-01-01_a_2018-01-02/Estacion_0034015010.csv\n"
     ]
    }
   ],
   "source": [
    "# Se llama la función con parámetros especificados con los siguientes formatos\n",
    "EMA_0240_13_01, df_EMA_0240_23_08 = desc_datoscrud_cassandra_noest('2018-01-01','2018-01-02', 'VVAG_CON')"
   ]
  },
  {
   "cell_type": "code",
   "execution_count": null,
   "id": "26e564eb",
   "metadata": {},
   "outputs": [],
   "source": [
    "# Se llama la función con parámetros especificados con los siguientes formatos\n",
    "EMA_0240_13_01, df_EMA_0240_23_08 = desc_datoscrud_cassandra_noest('2018-01-01','2018-01-02', '0104')"
   ]
  },
  {
   "cell_type": "markdown",
   "id": "ae0b7f03-ac29-4852-991f-ff75e6af5e30",
   "metadata": {},
   "source": [
    "-----"
   ]
  },
  {
   "cell_type": "code",
   "execution_count": 44,
   "id": "192dcf5e-370c-4fa5-8576-13979ace9813",
   "metadata": {},
   "outputs": [
    {
     "data": {
      "text/html": [
       "<div>\n",
       "<style scoped>\n",
       "    .dataframe tbody tr th:only-of-type {\n",
       "        vertical-align: middle;\n",
       "    }\n",
       "\n",
       "    .dataframe tbody tr th {\n",
       "        vertical-align: top;\n",
       "    }\n",
       "\n",
       "    .dataframe thead th {\n",
       "        text-align: right;\n",
       "    }\n",
       "</style>\n",
       "<table border=\"1\" class=\"dataframe\">\n",
       "  <thead>\n",
       "    <tr style=\"text-align: right;\">\n",
       "      <th></th>\n",
       "      <th>Unnamed: 0</th>\n",
       "      <th>Station</th>\n",
       "      <th>Name</th>\n",
       "      <th>Sensor</th>\n",
       "      <th>Fecha</th>\n",
       "      <th>Valor</th>\n",
       "    </tr>\n",
       "  </thead>\n",
       "  <tbody>\n",
       "    <tr>\n",
       "      <th>0</th>\n",
       "      <td>0</td>\n",
       "      <td>35075040</td>\n",
       "      <td>INSTITUCION AGRICOLA MACANAL</td>\n",
       "      <td>TSSM_CON</td>\n",
       "      <td>2019-01-01 07:00:00.000</td>\n",
       "      <td>13.6</td>\n",
       "    </tr>\n",
       "    <tr>\n",
       "      <th>1</th>\n",
       "      <td>1</td>\n",
       "      <td>35075040</td>\n",
       "      <td>INSTITUCION AGRICOLA MACANAL</td>\n",
       "      <td>TSSM_CON</td>\n",
       "      <td>2019-01-01 13:00:00.000</td>\n",
       "      <td>23.2</td>\n",
       "    </tr>\n",
       "    <tr>\n",
       "      <th>2</th>\n",
       "      <td>2</td>\n",
       "      <td>35075040</td>\n",
       "      <td>INSTITUCION AGRICOLA MACANAL</td>\n",
       "      <td>TSSM_CON</td>\n",
       "      <td>2019-01-01 18:00:00.000</td>\n",
       "      <td>17.8</td>\n",
       "    </tr>\n",
       "    <tr>\n",
       "      <th>3</th>\n",
       "      <td>3</td>\n",
       "      <td>35075040</td>\n",
       "      <td>INSTITUCION AGRICOLA MACANAL</td>\n",
       "      <td>TSSM_CON</td>\n",
       "      <td>2019-01-02 07:00:00.000</td>\n",
       "      <td>14.4</td>\n",
       "    </tr>\n",
       "  </tbody>\n",
       "</table>\n",
       "</div>"
      ],
      "text/plain": [
       "   Unnamed: 0   Station                          Name    Sensor  \\\n",
       "0           0  35075040  INSTITUCION AGRICOLA MACANAL  TSSM_CON   \n",
       "1           1  35075040  INSTITUCION AGRICOLA MACANAL  TSSM_CON   \n",
       "2           2  35075040  INSTITUCION AGRICOLA MACANAL  TSSM_CON   \n",
       "3           3  35075040  INSTITUCION AGRICOLA MACANAL  TSSM_CON   \n",
       "\n",
       "                     Fecha  Valor  \n",
       "0  2019-01-01 07:00:00.000   13.6  \n",
       "1  2019-01-01 13:00:00.000   23.2  \n",
       "2  2019-01-01 18:00:00.000   17.8  \n",
       "3  2019-01-02 07:00:00.000   14.4  "
      ]
     },
     "execution_count": 44,
     "metadata": {},
     "output_type": "execute_result"
    }
   ],
   "source": [
    "df = pd.read_csv('2019-01-01_a_2019-01-04/Estacion_0035075040.csv')\n",
    "df"
   ]
  },
  {
   "cell_type": "code",
   "execution_count": 45,
   "id": "3ff48662-7461-4564-a14c-0a23ae5ae2dc",
   "metadata": {},
   "outputs": [],
   "source": [
    "df['Fecha'] = pd.to_datetime(df['Fecha'], format='%Y-%m-%d %H:%M:%S.%f')"
   ]
  },
  {
   "cell_type": "code",
   "execution_count": 46,
   "id": "9f5c277a-5546-4e1d-b197-3bcc45a73508",
   "metadata": {},
   "outputs": [
    {
     "data": {
      "text/html": [
       "<div>\n",
       "<style scoped>\n",
       "    .dataframe tbody tr th:only-of-type {\n",
       "        vertical-align: middle;\n",
       "    }\n",
       "\n",
       "    .dataframe tbody tr th {\n",
       "        vertical-align: top;\n",
       "    }\n",
       "\n",
       "    .dataframe thead th {\n",
       "        text-align: right;\n",
       "    }\n",
       "</style>\n",
       "<table border=\"1\" class=\"dataframe\">\n",
       "  <thead>\n",
       "    <tr style=\"text-align: right;\">\n",
       "      <th></th>\n",
       "      <th>Unnamed: 0</th>\n",
       "      <th>Station</th>\n",
       "      <th>Name</th>\n",
       "      <th>Sensor</th>\n",
       "      <th>Fecha</th>\n",
       "      <th>Valor</th>\n",
       "      <th>Mes</th>\n",
       "    </tr>\n",
       "  </thead>\n",
       "  <tbody>\n",
       "    <tr>\n",
       "      <th>0</th>\n",
       "      <td>0</td>\n",
       "      <td>35075040</td>\n",
       "      <td>INSTITUCION AGRICOLA MACANAL</td>\n",
       "      <td>TSSM_CON</td>\n",
       "      <td>2019-01-01 07:00:00</td>\n",
       "      <td>13.6</td>\n",
       "      <td>1</td>\n",
       "    </tr>\n",
       "    <tr>\n",
       "      <th>1</th>\n",
       "      <td>1</td>\n",
       "      <td>35075040</td>\n",
       "      <td>INSTITUCION AGRICOLA MACANAL</td>\n",
       "      <td>TSSM_CON</td>\n",
       "      <td>2019-01-01 13:00:00</td>\n",
       "      <td>23.2</td>\n",
       "      <td>1</td>\n",
       "    </tr>\n",
       "    <tr>\n",
       "      <th>2</th>\n",
       "      <td>2</td>\n",
       "      <td>35075040</td>\n",
       "      <td>INSTITUCION AGRICOLA MACANAL</td>\n",
       "      <td>TSSM_CON</td>\n",
       "      <td>2019-01-01 18:00:00</td>\n",
       "      <td>17.8</td>\n",
       "      <td>1</td>\n",
       "    </tr>\n",
       "    <tr>\n",
       "      <th>3</th>\n",
       "      <td>3</td>\n",
       "      <td>35075040</td>\n",
       "      <td>INSTITUCION AGRICOLA MACANAL</td>\n",
       "      <td>TSSM_CON</td>\n",
       "      <td>2019-01-02 07:00:00</td>\n",
       "      <td>14.4</td>\n",
       "      <td>1</td>\n",
       "    </tr>\n",
       "  </tbody>\n",
       "</table>\n",
       "</div>"
      ],
      "text/plain": [
       "   Unnamed: 0   Station                          Name    Sensor  \\\n",
       "0           0  35075040  INSTITUCION AGRICOLA MACANAL  TSSM_CON   \n",
       "1           1  35075040  INSTITUCION AGRICOLA MACANAL  TSSM_CON   \n",
       "2           2  35075040  INSTITUCION AGRICOLA MACANAL  TSSM_CON   \n",
       "3           3  35075040  INSTITUCION AGRICOLA MACANAL  TSSM_CON   \n",
       "\n",
       "                Fecha  Valor  Mes  \n",
       "0 2019-01-01 07:00:00   13.6    1  \n",
       "1 2019-01-01 13:00:00   23.2    1  \n",
       "2 2019-01-01 18:00:00   17.8    1  \n",
       "3 2019-01-02 07:00:00   14.4    1  "
      ]
     },
     "execution_count": 46,
     "metadata": {},
     "output_type": "execute_result"
    }
   ],
   "source": [
    "df['Mes'] = df['Fecha'].dt.month\n",
    "df"
   ]
  },
  {
   "cell_type": "code",
   "execution_count": 17,
   "id": "7e58b447-bdf4-47f6-968a-876ca5064093",
   "metadata": {},
   "outputs": [
    {
     "data": {
      "text/plain": [
       "Mes\n",
       "1    4\n",
       "Name: count, dtype: int64"
      ]
     },
     "execution_count": 17,
     "metadata": {},
     "output_type": "execute_result"
    }
   ],
   "source": [
    "df['Mes'].value_counts()"
   ]
  },
  {
   "cell_type": "code",
   "execution_count": 47,
   "id": "de76db1b-ad83-4f7b-b94c-05ff46efad1a",
   "metadata": {},
   "outputs": [],
   "source": [
    "normales = pd.read_excel('NormClimatolEstándar_PRECIPITACION_9120.xlsx')"
   ]
  },
  {
   "cell_type": "code",
   "execution_count": 48,
   "id": "5956118d-efa2-47a9-9cc9-eaf1a3d8e988",
   "metadata": {},
   "outputs": [
    {
     "data": {
      "text/plain": [
       "dtype('int64')"
      ]
     },
     "execution_count": 48,
     "metadata": {},
     "output_type": "execute_result"
    }
   ],
   "source": [
    "#normales['Station'] = normales['Station'].astype('int64')\n",
    "normales['Station'].dtypes"
   ]
  },
  {
   "cell_type": "code",
   "execution_count": 39,
   "id": "bb5eecff-88d7-4bd6-8256-c9099e019a8b",
   "metadata": {},
   "outputs": [
    {
     "data": {
      "text/plain": [
       "0       47067010\n",
       "1       47060010\n",
       "2       44187030\n",
       "3       44187020\n",
       "4       44157040\n",
       "          ...   \n",
       "1439    38015030\n",
       "1440    38017040\n",
       "1441    35260010\n",
       "1442    35260030\n",
       "1443    35267030\n",
       "Name: Station, Length: 1444, dtype: int64"
      ]
     },
     "execution_count": 39,
     "metadata": {},
     "output_type": "execute_result"
    }
   ],
   "source": [
    "normales['Station']"
   ]
  },
  {
   "cell_type": "code",
   "execution_count": 40,
   "id": "5a4670f2-da13-42d8-bdb8-c1051e202977",
   "metadata": {},
   "outputs": [
    {
     "data": {
      "text/plain": [
       "dtype('int64')"
      ]
     },
     "execution_count": 40,
     "metadata": {},
     "output_type": "execute_result"
    }
   ],
   "source": [
    "df['Station'].dtypes"
   ]
  },
  {
   "cell_type": "code",
   "execution_count": 49,
   "id": "367ddea6-e566-405e-a0cc-149ec28c53e9",
   "metadata": {},
   "outputs": [
    {
     "name": "stdout",
     "output_type": "stream",
     "text": [
      "297    42.003704\n",
      "Name: 1, dtype: float64\n",
      "297    42.003704\n",
      "Name: 1, dtype: float64\n",
      "297    42.003704\n",
      "Name: 1, dtype: float64\n",
      "297    42.003704\n",
      "Name: 1, dtype: float64\n",
      "   Unnamed: 0   Station                          Name    Sensor  \\\n",
      "0           0  35075040  INSTITUCION AGRICOLA MACANAL  TSSM_CON   \n",
      "1           1  35075040  INSTITUCION AGRICOLA MACANAL  TSSM_CON   \n",
      "2           2  35075040  INSTITUCION AGRICOLA MACANAL  TSSM_CON   \n",
      "3           3  35075040  INSTITUCION AGRICOLA MACANAL  TSSM_CON   \n",
      "\n",
      "                Fecha  Valor  Mes  Valor_Normal     Índice  \n",
      "0 2019-01-01 07:00:00   13.6    1     42.003704  32.378097  \n",
      "1 2019-01-01 13:00:00   23.2    1     42.003704  55.233225  \n",
      "2 2019-01-01 18:00:00   17.8    1     42.003704  42.377215  \n",
      "3 2019-01-02 07:00:00   14.4    1     42.003704  34.282691  \n"
     ]
    }
   ],
   "source": [
    "# Crear una función para extraer el valor normal del mes correspondiente\n",
    "def get_normal_value(row, normales_df):\n",
    "    # Usar el mes para seleccionar la columna correcta\n",
    "    month_column = row['Mes']\n",
    "    # Encontrar el valor normal para la estación y el mes específicos\n",
    "    normal_value = normales_df.loc[normales_df['Station'] == row['Station'], month_column]\n",
    "    print(normal_value)\n",
    "    return normal_value.values[0] if not normal_value.empty else None\n",
    "\n",
    "# Aplicar la función para crear una nueva columna con el valor normal\n",
    "df['Valor_Normal'] = df.apply(get_normal_value, normales_df=normales, axis=1)\n",
    "# Calcular la nueva columna como solicitaste\n",
    "df['Índice'] = (df['Valor'] * 100) / df['Valor_Normal']\n",
    "print(df)"
   ]
  },
  {
   "cell_type": "code",
   "execution_count": 43,
   "id": "f3891b99-e292-4f52-83b8-e818a70a403b",
   "metadata": {},
   "outputs": [
    {
     "ename": "AttributeError",
     "evalue": "'str' object has no attribute 'astype'",
     "output_type": "error",
     "traceback": [
      "\u001b[1;31m---------------------------------------------------------------------------\u001b[0m",
      "\u001b[1;31mAttributeError\u001b[0m                            Traceback (most recent call last)",
      "Cell \u001b[1;32mIn[43], line 2\u001b[0m\n\u001b[0;32m      1\u001b[0m var \u001b[38;5;241m=\u001b[39m \u001b[38;5;124m'\u001b[39m\u001b[38;5;124m1234\u001b[39m\u001b[38;5;124m'\u001b[39m\n\u001b[1;32m----> 2\u001b[0m var\u001b[38;5;241m.\u001b[39mastype(\u001b[38;5;124m'\u001b[39m\u001b[38;5;124mint64\u001b[39m\u001b[38;5;124m'\u001b[39m)\n",
      "\u001b[1;31mAttributeError\u001b[0m: 'str' object has no attribute 'astype'"
     ]
    }
   ],
   "source": [
    "var = '1234'\n",
    "var.astype('int64')"
   ]
  },
  {
   "cell_type": "code",
   "execution_count": null,
   "id": "464e3c84-76b9-4a9d-9431-a024e4024476",
   "metadata": {},
   "outputs": [],
   "source": []
  }
 ],
 "metadata": {
  "kernelspec": {
   "display_name": "Python 3 (ipykernel)",
   "language": "python",
   "name": "python3"
  },
  "language_info": {
   "codemirror_mode": {
    "name": "ipython",
    "version": 3
   },
   "file_extension": ".py",
   "mimetype": "text/x-python",
   "name": "python",
   "nbconvert_exporter": "python",
   "pygments_lexer": "ipython3",
   "version": "3.11.7"
  }
 },
 "nbformat": 4,
 "nbformat_minor": 5
}
