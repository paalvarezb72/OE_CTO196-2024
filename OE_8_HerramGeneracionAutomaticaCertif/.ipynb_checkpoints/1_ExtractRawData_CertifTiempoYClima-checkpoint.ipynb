{
 "cells": [
  {
   "cell_type": "markdown",
   "id": "242c20b1",
   "metadata": {},
   "source": [
    "# Extracción de datos de precipitación desde repositorio Cassandra"
   ]
  },
  {
   "cell_type": "markdown",
   "id": "aa73bb31",
   "metadata": {},
   "source": [
    "> Elaborado por Paola Álvarez, profesional contratista IDEAM, contrato 193 de 2023. Comentarios o inquietudes, remitir a *palvarez@ideam.gov.co* "
   ]
  },
  {
   "cell_type": "code",
   "execution_count": 15,
   "id": "eef574c8",
   "metadata": {},
   "outputs": [],
   "source": [
    "import numpy as np\n",
    "import pandas as pd\n",
    "import datetime\n",
    "import prestodb \n",
    "import matplotlib.pyplot as plt\n",
    "import os\n",
    "from datetime import datetime"
   ]
  },
  {
   "cell_type": "code",
   "execution_count": 2,
   "id": "a4e571c3",
   "metadata": {},
   "outputs": [],
   "source": [
    "conn=prestodb.dbapi.connect(\n",
    "    host='172.16.50.20',\n",
    "    port=8080,\n",
    "    user='Paola',\n",
    "    catalog='raw',\n",
    "    schema='cassandra',\n",
    ")\n",
    "cur = conn.cursor()"
   ]
  },
  {
   "cell_type": "markdown",
   "id": "cd5f1cb7",
   "metadata": {},
   "source": [
    "_________________"
   ]
  },
  {
   "cell_type": "markdown",
   "id": "9ae7982f",
   "metadata": {},
   "source": [
    "El siguiente código permite hacer la descarga diaria de datos de precipitación"
   ]
  },
  {
   "cell_type": "code",
   "execution_count": 38,
   "id": "269c337d",
   "metadata": {},
   "outputs": [],
   "source": [
    "def descarga_datoscrud_cassandra(inicio, fin, codestacion, sensor):\n",
    "    cur.execute(f''' select lm.station, s.name, lm.sensor, lm.event_time + interval '5' hour event_time, lm.event_value \n",
    "    from cassandra.raw.weather_events AS lm INNER JOIN cassandra.raw.stations AS s\n",
    "        ON lm.station = s.stationid\n",
    "    where lm.station in ('{codestacion}')\n",
    "    AND lm.event_time BETWEEN timestamp '{inicio}' AND timestamp '{fin}' \n",
    "    AND lm.sensor in ('{sensor}') ''') # estación de la forma '0021206600'; sensor de la forma '0240'\n",
    "    station_sensem = cur.fetchall()\n",
    "    \n",
    "    # Se genera un Data Frame a partir de los datos extaídos\n",
    "    stationdf = pd.DataFrame(station_sensem, columns= ['Station', 'Name', 'Sensor','Fecha','Valor'])\n",
    "    print(stationdf.head(3))\n",
    "    \n",
    "    # Se genera la lista de las diferentes estaciones con base en sus códigos\n",
    "    j = stationdf['Station'].values.ravel()\n",
    "    k = pd.unique(j).tolist()\n",
    "\n",
    "    # Se crea una carpeta con el nombre del semestre\n",
    "    inicio_date = datetime.strptime(inicio, '%Y-%m-%d') #'%Y-%m-%d %H:%M:%S.%f'\n",
    "    fin_date = datetime.strptime(fin, '%Y-%m-%d') #'%Y-%m-%d %H:%M:%S.%f'\n",
    "    semestre = inicio_date.strftime('%Y-%m-%d') + \"_a_\" + fin_date.strftime('%Y-%m-%d')\n",
    "    if not os.path.exists(semestre):\n",
    "        os.makedirs(semestre)\n",
    "\n",
    "    # Se exportan los datos separados por estaciones según su código para futuros usos \n",
    "    for i in k:\n",
    "        Filtro = stationdf['Station'] == i\n",
    "        h = stationdf[Filtro]\n",
    "        nombre_archivo = semestre + \"/Estacion_\" + str(i) + \".csv\"\n",
    "        print('Se guardó el archivo:', nombre_archivo)\n",
    "        h.to_csv(nombre_archivo)\n",
    "    \n",
    "    return station_sensem, stationdf"
   ]
  },
  {
   "cell_type": "code",
   "execution_count": 40,
   "id": "a0f44f4f",
   "metadata": {},
   "outputs": [
    {
     "name": "stdout",
     "output_type": "stream",
     "text": [
      "Empty DataFrame\n",
      "Columns: [Station, Name, Sensor, Fecha, Valor]\n",
      "Index: []\n"
     ]
    }
   ],
   "source": [
    "# Se llama la función con parámetros especificados con los siguientes formatos\n",
    "EMA_0240_13_01, df_EMA_0240_23_08 = descarga_datoscrud_cassandra('2018-01-01','2018-01-04', '0035215020',  '0103')"
   ]
  },
  {
   "cell_type": "code",
   "execution_count": 26,
   "id": "bcefa809",
   "metadata": {},
   "outputs": [],
   "source": [
    "# Sin estación específica\n",
    "def desc_datoscrud_cassandra_noest(inicio, fin, sensor):\n",
    "    cur.execute(f''' select lm.station, s.name, lm.sensor, lm.event_time + interval '5' hour event_time, lm.event_value \n",
    "    from cassandra.raw.weather_events AS lm INNER JOIN cassandra.raw.stations AS s\n",
    "        ON lm.station = s.stationid\n",
    "    where lm.event_time BETWEEN timestamp '{inicio}' AND timestamp '{fin}' \n",
    "    AND lm.sensor in ('{sensor}') ''') # estación de la forma '0021206600'; sensor de la forma '0240'\n",
    "    station_sensem = cur.fetchall()\n",
    "    \n",
    "    # Se genera un Data Frame a partir de los datos extaídos\n",
    "    stationdf = pd.DataFrame(station_sensem, columns= ['Station', 'Name', 'Sensor','Fecha','Valor'])\n",
    "    print(stationdf.head(3))\n",
    "    \n",
    "    # Se genera la lista de las diferentes estaciones con base en sus códigos\n",
    "    j = stationdf['Station'].values.ravel()\n",
    "    k = pd.unique(j).tolist()\n",
    "\n",
    "    # Se crea una carpeta con el nombre del semestre\n",
    "    inicio_date = datetime.strptime(inicio, '%Y-%m-%d') #'%Y-%m-%d %H:%M:%S.%f'\n",
    "    fin_date = datetime.strptime(fin, '%Y-%m-%d') #'%Y-%m-%d %H:%M:%S.%f'\n",
    "    semestre = inicio_date.strftime('%Y-%m-%d') + \"_a_\" + fin_date.strftime('%Y-%m-%d')\n",
    "    if not os.path.exists(semestre):\n",
    "        os.makedirs(semestre)\n",
    "\n",
    "    # Se exportan los datos separados por estaciones según su código para futuros usos \n",
    "    for i in k:\n",
    "        Filtro = stationdf['Station'] == i\n",
    "        h = stationdf[Filtro]\n",
    "        nombre_archivo = semestre + \"/Estacion_\" + str(i) + \".csv\"\n",
    "        print('Se guardó el archivo:', nombre_archivo)\n",
    "        h.to_csv(nombre_archivo)\n",
    "    \n",
    "    return station_sensem, stationdf"
   ]
  },
  {
   "cell_type": "code",
   "execution_count": 28,
   "id": "4b9fdb3c",
   "metadata": {},
   "outputs": [
    {
     "name": "stdout",
     "output_type": "stream",
     "text": [
      "      Station                        Name Sensor                    Fecha  \\\n",
      "0  0028025502  AEROPUERTO ALFONSO LOPEZ -   0103  2018-01-01 05:00:00.000   \n",
      "1  0028025502  AEROPUERTO ALFONSO LOPEZ -   0103  2018-01-01 05:10:00.000   \n",
      "2  0028025502  AEROPUERTO ALFONSO LOPEZ -   0103  2018-01-01 05:20:00.000   \n",
      "\n",
      "   Valor  \n",
      "0    3.8  \n",
      "1    4.0  \n",
      "2    3.6  \n"
     ]
    },
    {
     "ename": "AttributeError",
     "evalue": "type object 'datetime.datetime' has no attribute 'datetime'",
     "output_type": "error",
     "traceback": [
      "\u001b[1;31m---------------------------------------------------------------------------\u001b[0m",
      "\u001b[1;31mAttributeError\u001b[0m                            Traceback (most recent call last)",
      "\u001b[1;32m~\\AppData\\Local\\Temp\\ipykernel_10852\\2100863087.py\u001b[0m in \u001b[0;36m<module>\u001b[1;34m\u001b[0m\n\u001b[0;32m      1\u001b[0m \u001b[1;31m# Se llama la función con parámetros especificados con los siguientes formatos\u001b[0m\u001b[1;33m\u001b[0m\u001b[1;33m\u001b[0m\u001b[0m\n\u001b[1;32m----> 2\u001b[1;33m \u001b[0mEMA_0240_13_01\u001b[0m\u001b[1;33m,\u001b[0m \u001b[0mdf_EMA_0240_23_08\u001b[0m \u001b[1;33m=\u001b[0m \u001b[0mdesc_datoscrud_cassandra_noest\u001b[0m\u001b[1;33m(\u001b[0m\u001b[1;34m'2018-01-01'\u001b[0m\u001b[1;33m,\u001b[0m\u001b[1;34m'2018-01-02'\u001b[0m\u001b[1;33m,\u001b[0m \u001b[1;34m'0103'\u001b[0m\u001b[1;33m)\u001b[0m\u001b[1;33m\u001b[0m\u001b[1;33m\u001b[0m\u001b[0m\n\u001b[0m",
      "\u001b[1;32m~\\AppData\\Local\\Temp\\ipykernel_10852\\616126812.py\u001b[0m in \u001b[0;36mdesc_datoscrud_cassandra_noest\u001b[1;34m(inicio, fin, sensor)\u001b[0m\n\u001b[0;32m     16\u001b[0m \u001b[1;33m\u001b[0m\u001b[0m\n\u001b[0;32m     17\u001b[0m     \u001b[1;31m# Se crea una carpeta con el nombre del semestre\u001b[0m\u001b[1;33m\u001b[0m\u001b[1;33m\u001b[0m\u001b[0m\n\u001b[1;32m---> 18\u001b[1;33m     \u001b[0minicio_date\u001b[0m \u001b[1;33m=\u001b[0m \u001b[0mdatetime\u001b[0m\u001b[1;33m.\u001b[0m\u001b[0mdatetime\u001b[0m\u001b[1;33m.\u001b[0m\u001b[0mstrptime\u001b[0m\u001b[1;33m(\u001b[0m\u001b[0minicio\u001b[0m\u001b[1;33m,\u001b[0m \u001b[1;34m'%Y-%m-%d'\u001b[0m\u001b[1;33m)\u001b[0m \u001b[1;31m#'%Y-%m-%d %H:%M:%S.%f'\u001b[0m\u001b[1;33m\u001b[0m\u001b[1;33m\u001b[0m\u001b[0m\n\u001b[0m\u001b[0;32m     19\u001b[0m     \u001b[0mfin_date\u001b[0m \u001b[1;33m=\u001b[0m \u001b[0mdatetime\u001b[0m\u001b[1;33m.\u001b[0m\u001b[0mdatetime\u001b[0m\u001b[1;33m.\u001b[0m\u001b[0mstrptime\u001b[0m\u001b[1;33m(\u001b[0m\u001b[0mfin\u001b[0m\u001b[1;33m,\u001b[0m \u001b[1;34m'%Y-%m-%d'\u001b[0m\u001b[1;33m)\u001b[0m \u001b[1;31m#'%Y-%m-%d %H:%M:%S.%f'\u001b[0m\u001b[1;33m\u001b[0m\u001b[1;33m\u001b[0m\u001b[0m\n\u001b[0;32m     20\u001b[0m     \u001b[0msemestre\u001b[0m \u001b[1;33m=\u001b[0m \u001b[0minicio_date\u001b[0m\u001b[1;33m.\u001b[0m\u001b[0mstrftime\u001b[0m\u001b[1;33m(\u001b[0m\u001b[1;34m'%Y-%m-%d'\u001b[0m\u001b[1;33m)\u001b[0m \u001b[1;33m+\u001b[0m \u001b[1;34m\"_a_\"\u001b[0m \u001b[1;33m+\u001b[0m \u001b[0mfin_date\u001b[0m\u001b[1;33m.\u001b[0m\u001b[0mstrftime\u001b[0m\u001b[1;33m(\u001b[0m\u001b[1;34m'%Y-%m-%d'\u001b[0m\u001b[1;33m)\u001b[0m\u001b[1;33m\u001b[0m\u001b[1;33m\u001b[0m\u001b[0m\n",
      "\u001b[1;31mAttributeError\u001b[0m: type object 'datetime.datetime' has no attribute 'datetime'"
     ]
    }
   ],
   "source": [
    "# Se llama la función con parámetros especificados con los siguientes formatos\n",
    "EMA_0240_13_01, df_EMA_0240_23_08 = desc_datoscrud_cassandra_noest('2018-01-01','2018-01-02', '0103')"
   ]
  },
  {
   "cell_type": "code",
   "execution_count": null,
   "id": "b2964bd1",
   "metadata": {},
   "outputs": [],
   "source": [
    "# Se llama la función con parámetros especificados con los siguientes formatos\n",
    "EMA_0240_13_01, df_EMA_0240_23_08 = desc_datoscrud_cassandra_noest('2018-01-01','2018-01-02', '0104')"
   ]
  },
  {
   "cell_type": "code",
   "execution_count": null,
   "id": "9ef5680f",
   "metadata": {},
   "outputs": [],
   "source": []
  }
 ],
 "metadata": {
  "kernelspec": {
   "display_name": "Python 3 (ipykernel)",
   "language": "python",
   "name": "python3"
  },
  "language_info": {
   "codemirror_mode": {
    "name": "ipython",
    "version": 3
   },
   "file_extension": ".py",
   "mimetype": "text/x-python",
   "name": "python",
   "nbconvert_exporter": "python",
   "pygments_lexer": "ipython3",
   "version": "3.9.13"
  }
 },
 "nbformat": 4,
 "nbformat_minor": 5
}
